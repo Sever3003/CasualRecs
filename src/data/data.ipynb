{
 "cells": [
  {
   "cell_type": "code",
   "execution_count": 28,
   "id": "de8b79ba",
   "metadata": {},
   "outputs": [
    {
     "name": "stdout",
     "output_type": "stream",
     "text": [
      "mkdir: cannot create directory ‘../../data/preprocessed’: File exists\n",
      "[1] \"2025-07-08 17:52:11 Read data.\"\n",
      "[1] \"2025-07-08 17:52:16 Extend user data.\"\n",
      "[1] \"2025-07-08 17:52:16 Choose type of recommendation.\"\n",
      "[1] \"type_recommendation = mailer\"\n",
      "[1] \"2025-07-08 17:52:17 Change col names.\"\n",
      "[1] \"Items' granularity is SUB_COMMODITY_DESC.\"\n",
      "[1] \"2025-07-08 17:52:20 Only select times, stores, items with promotion logs.\"\n",
      "[1] \"Original total times: 102\"\n",
      "[1] \"Times with promotion logs: 93\"\n",
      "[1] \"Original total stores: 582\"\n",
      "[1] \"Stores with promotion logs: 115\"\n",
      "[1] \"Original total items: 3830\"\n",
      "[1] \"Items with promotion logs: 1866\"\n",
      "[1] \"Original data volume: 2593381\"\n",
      "[1] \"Trimmed data volume: 2285928\"\n",
      "[1] \"2025-07-08 17:52:22 Filter user, item, promotion information by the existence on transaction data.\"\n",
      "[1] \"Users with at least 10 weeks transaction: 2309\"\n",
      "[1] \"Items with at least 10 weeks transaction: 1507\"\n",
      "[1] \"2025-07-08 17:52:23 Prepare outcomes (time_id, user_id, item_id, quantity, sales).\"\n",
      "[1] \"2025-07-08 17:52:23 Prepare treatments (time_id, user_id, item_id).\"\n",
      "[1] \"2025-07-08 17:52:23 Extract store visits.\"\n",
      "[1] \"2025-07-08 17:52:24 Extract promotion of each store.\"\n",
      "[1] \"2025-07-08 17:52:24 Merge (outer join) store visits of users and store promotions of items.\"\n",
      "[1] \"2025-07-08 17:52:25 Remove duplicate promotions from some visited stores.\"\n",
      "[1] \"2025-07-08 17:52:27 Add treatment info to hist_outcomes.\"\n",
      "[1] \"2025-07-08 17:52:27 Completed.\"\n",
      "[1] \"Number of users: 2309\"\n",
      "[1] \"Number of items: 1372\"\n",
      "Warning message:\n",
      "In require_bit64_if_needed(ans) :\n",
      "  Some columns are type 'integer64' but package bit64 is not installed. Those columns will print as strange looking floating point data. There is no need to reload the data. Simply install.packages('bit64') to obtain the integer64 print method and print the data again.\n",
      "[1] \"2025-07-08 17:52:27 Count important numbers.\"\n",
      "[1] \"2025-07-08 17:52:28 Merge important numbers.\"\n",
      "[1] \"2025-07-08 17:52:28 Fill NA with 0.\"\n",
      "[1] \"Number of unique users: 2309\"\n",
      "[1] \"Number of unique items: 1372\"\n",
      "   user  system elapsed \n",
      " 55.730   5.307  17.733 \n",
      "[1] \"2025-07-08 17:52:34 Read data.\"\n",
      "[1] \"2025-07-08 17:52:38 Extend user data.\"\n",
      "[1] \"2025-07-08 17:52:39 Choose type of recommendation.\"\n",
      "[1] \"type_recommendation = mailer\"\n",
      "[1] \"2025-07-08 17:52:39 Change col names.\"\n",
      "[1] \"Items' granularity is PRODUCT_ID\"\n",
      "[1] \"2025-07-08 17:52:39 Only select times, stores, items with promotion logs.\"\n",
      "[1] \"Original total times: 102\"\n",
      "[1] \"Times with promotion logs: 93\"\n",
      "[1] \"Original total stores: 582\"\n",
      "[1] \"Stores with promotion logs: 115\"\n",
      "[1] \"Original total items: 92339\"\n",
      "[1] \"Items with promotion logs: 37752\"\n",
      "[1] \"Original data volume: 2595732\"\n",
      "[1] \"Trimmed data volume: 1704208\"\n",
      "[1] \"2025-07-08 17:52:41 Filter user, item, promotion information by the existence on transaction data.\"\n",
      "[1] \"Users with at least 10 weeks transaction: 2290\"\n",
      "[1] \"Items with at least 10 weeks transaction: 13185\"\n",
      "[1] \"2025-07-08 17:52:41 Prepare outcomes (time_id, user_id, item_id, quantity, sales).\"\n",
      "[1] \"2025-07-08 17:52:41 Prepare treatments (time_id, user_id, item_id).\"\n",
      "[1] \"2025-07-08 17:52:41 Extract store visits.\"\n",
      "[1] \"2025-07-08 17:52:41 Extract promotion of each store.\"\n",
      "[1] \"2025-07-08 17:52:42 Merge (outer join) store visits of users and store promotions of items.\"\n",
      "[1] \"2025-07-08 17:52:45 Remove duplicate promotions from some visited stores.\"\n",
      "[1] \"2025-07-08 17:52:56 Add treatment info to hist_outcomes.\"\n",
      "[1] \"2025-07-08 17:52:59 Completed.\"\n",
      "[1] \"Number of users: 2290\"\n",
      "[1] \"Number of items: 11331\"\n",
      "Warning message:\n",
      "In require_bit64_if_needed(ans) :\n",
      "  Some columns are type 'integer64' but package bit64 is not installed. Those columns will print as strange looking floating point data. There is no need to reload the data. Simply install.packages('bit64') to obtain the integer64 print method and print the data again.\n",
      "[1] \"2025-07-08 17:52:59 Count important numbers.\"\n",
      "[1] \"2025-07-08 17:53:03 Merge important numbers.\"\n",
      "[1] \"2025-07-08 17:53:04 Fill NA with 0.\"\n",
      "[1] \"Number of unique users: 2290\"\n",
      "[1] \"Number of unique items: 11331\"\n",
      "   user  system elapsed \n",
      "148.710  23.816  34.988 \n"
     ]
    }
   ],
   "source": [
    "!mkdir ../../data/preprocessed\n",
    "!Rscript preprocess_dunnhumby.R "
   ]
  },
  {
   "cell_type": "code",
   "execution_count": 29,
   "id": "746b348c",
   "metadata": {},
   "outputs": [
    {
     "name": "stdout",
     "output_type": "stream",
     "text": [
      "dir_data is ../../data/preprocessed/dunn_cat_mailer_10_10_1_1/.\n",
      "dir_data_prepared is ../../data/preprocessed/dunn_cat_mailer_10_10_1_1/original_rp0.40/.\n",
      "Start prepare data.\n",
      "mode_assignment is original.\n",
      "Data prepared.\n",
      "Max propensity: 0.9999093102274238\n",
      "Min propensity: 5.3799017629938075e-05\n",
      "Average propensity: 0.15280617482608394\n",
      "Average number of recommendations: 209.46730186227805\n",
      "Ratio of positive outcomes: 0.011051317761528914\n",
      "Ratio of positive treatment effect: 0.013381217115937509\n",
      "Ratio of negative treatment effect: 0.008982786333614061\n",
      "Average treatment effect: 0.004398430782323447\n",
      "Expected average treatment effect: 0.004364500694147672\n",
      "Completed in 0.04 hours.\n"
     ]
    }
   ],
   "source": [
    "!python prepare_data.py -d ../../data/preprocessed/dunn_cat_mailer_10_10_1_1 -tlt 10 -tlv 1 -tle 10 -rp 0.4 -mas original -cap 0.000001 -trt"
   ]
  },
  {
   "cell_type": "code",
   "execution_count": 31,
   "id": "16ef57c7",
   "metadata": {},
   "outputs": [
    {
     "name": "stdout",
     "output_type": "stream",
     "text": [
      "dir_data is ../../data/preprocessed/dunn_cat_mailer_10_10_1_1/.\n",
      "dir_data_prepared is ../../data/preprocessed/dunn_cat_mailer_10_10_1_1/rank_rp0.40_sf2.00_nr210/.\n",
      "Start prepare data.\n",
      "mode_assignment is rank.\n",
      "type_recommender: oracle\n",
      "22.006159620443672\n",
      "68.43750866897868\n",
      "119.0856096956597\n",
      "157.11562974138525\n",
      "180.85478078778365\n",
      "194.38474223556915\n",
      "201.75601299787834\n",
      "205.6799231138981\n",
      "207.74509082090185\n",
      "208.82774514487755\n",
      "209.38830103176934\n",
      "209.6815715720095\n",
      "Data prepared.\n",
      "Max propensity: 0.999999\n",
      "Min propensity: 0.0063645567507021866\n",
      "Average propensity: 0.15282905435277647\n",
      "Average number of recommendations: 209.54742312689476\n",
      "Ratio of positive outcomes: 0.012290605780145382\n",
      "Ratio of positive treatment effect: 0.013443402480091213\n",
      "Ratio of negative treatment effect: 0.00897047552548211\n",
      "Average treatment effect: 0.004472926954609103\n",
      "Expected average treatment effect: 0.004364500694147675\n",
      "Completed in 0.04 hours.\n"
     ]
    }
   ],
   "source": [
    "!python prepare_data.py -d ../../data/preprocessed/dunn_cat_mailer_10_10_1_1 -tlt 10 -tlv 1 -tle 10 -rp 0.4 -mas rank -sf 2.0 -nr 210 -cap 0.000001 -trt"
   ]
  },
  {
   "cell_type": "code",
   "execution_count": 1,
   "id": "b0f91530",
   "metadata": {},
   "outputs": [
    {
     "name": "stdout",
     "output_type": "stream",
     "text": [
      "dir_data is ../../data/preprocessed/dunn_mailer_10_10_1_1/.\n",
      "dir_data_prepared is ../../data/preprocessed/dunn_mailer_10_10_1_1/original_rp0.90/.\n",
      "Start prepare data.\n",
      "mode_assignment is original.\n",
      "Data prepared.\n",
      "Max propensity: 0.7080043262232558\n",
      "Min propensity: 9.812428691541493e-05\n",
      "Average propensity: 0.08748230340261194\n",
      "Average number of recommendations: 991.2008733624453\n",
      "Ratio of positive outcomes: 0.0012185144205774706\n",
      "Ratio of positive treatment effect: 0.0026825584563582765\n",
      "Ratio of negative treatment effect: 0.0010027751667855583\n",
      "Average treatment effect: 0.0016797832895727182\n",
      "Expected average treatment effect: 0.001697595324523508\n",
      "Completed in 0.17 hours.\n"
     ]
    }
   ],
   "source": [
    "!python prepare_data.py -d ../../data/preprocessed/dunn_mailer_10_10_1_1 -tlt 10 -tlv 1 -tle 10 -rp 0.9 -mas original -cap 0.000001 -trt"
   ]
  },
  {
   "cell_type": "code",
   "execution_count": 2,
   "id": "df52a5b3",
   "metadata": {},
   "outputs": [
    {
     "name": "stdout",
     "output_type": "stream",
     "text": [
      "dir_data is ../../data/preprocessed/dunn_mailer_10_10_1_1/.\n",
      "dir_data_prepared is ../../data/preprocessed/dunn_mailer_10_10_1_1/rank_rp0.90_sf2.00_nr991/.\n",
      "Start prepare data.\n",
      "mode_assignment is rank.\n",
      "type_recommender: oracle\n",
      "48.534768876442946\n",
      "220.24224188389638\n",
      "465.15989499163476\n",
      "675.90304245901\n",
      "815.8738302177997\n",
      "897.5172699139011\n",
      "942.1372443979009\n",
      "965.7355171376074\n",
      "978.0091079730272\n",
      "984.3391945072203\n",
      "987.5898627361955\n",
      "989.255515082818\n",
      "990.1077033641577\n",
      "990.5439868852604\n",
      "Data prepared.\n",
      "Max propensity: 0.999999\n",
      "Min propensity: 0.0020009481027210437\n",
      "Average propensity: 0.0874188933796897\n",
      "Average number of recommendations: 990.3689956331878\n",
      "Ratio of positive outcomes: 0.001986281018298527\n",
      "Ratio of positive treatment effect: 0.002687799710112421\n",
      "Ratio of negative treatment effect: 0.0009883231803311163\n",
      "Average treatment effect: 0.0016994765297813049\n",
      "Expected average treatment effect: 0.0016975953245235138\n",
      "Completed in 0.18 hours.\n"
     ]
    }
   ],
   "source": [
    "!python prepare_data.py -d ../../data/preprocessed/dunn_mailer_10_10_1_1 -tlt 10 -tlv 1 -tle 10 -rp 0.9 -mas rank -sf 2.0 -nr 991 -cap 0.000001 -trt"
   ]
  }
 ],
 "metadata": {
  "kernelspec": {
   "display_name": "casual",
   "language": "python",
   "name": "python3"
  },
  "language_info": {
   "codemirror_mode": {
    "name": "ipython",
    "version": 3
   },
   "file_extension": ".py",
   "mimetype": "text/x-python",
   "name": "python",
   "nbconvert_exporter": "python",
   "pygments_lexer": "ipython3",
   "version": "3.7.16"
  }
 },
 "nbformat": 4,
 "nbformat_minor": 5
}
